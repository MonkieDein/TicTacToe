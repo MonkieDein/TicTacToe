{
 "cells": [
  {
   "cell_type": "markdown",
   "metadata": {},
   "source": [
    "### Everything you need to know to ACE\n",
    "# Tic Tac Toe "
   ]
  },
  {
   "cell_type": "code",
   "execution_count": 45,
   "metadata": {},
   "outputs": [],
   "source": [
    "# import library \n",
    "include(\"utils.jl\") \n",
    "using Combinatorics\n",
    "using Dates"
   ]
  },
  {
   "cell_type": "code",
   "execution_count": 23,
   "metadata": {},
   "outputs": [
    {
     "data": {
      "text/plain": [
       "8-element Vector{Vector{Bool}}:\n",
       " [1, 0, 0, 1, 0, 0, 1, 0, 0]\n",
       " [0, 1, 0, 0, 1, 0, 0, 1, 0]\n",
       " [0, 0, 1, 0, 0, 1, 0, 0, 1]\n",
       " [1, 1, 1, 0, 0, 0, 0, 0, 0]\n",
       " [0, 0, 0, 1, 1, 1, 0, 0, 0]\n",
       " [0, 0, 0, 0, 0, 0, 1, 1, 1]\n",
       " [1, 0, 0, 0, 1, 0, 0, 0, 1]\n",
       " [0, 0, 1, 0, 1, 0, 1, 0, 0]"
      ]
     },
     "metadata": {},
     "output_type": "display_data"
    }
   ],
   "source": [
    "# Defining all wining condition\n",
    "win_cond = vcat([[i==k for i in 1:3, j in 1:3] for k in 1:3],[[j==k for i in 1:3, j in 1:3] for k in 1:3],[[i==j for i in 1:3, j in 1:3]],[[i==4-j for i in 1:3, j in 1:3]])\n",
    "win_cond = [vcat(win...) for win in win_cond]"
   ]
  },
  {
   "cell_type": "markdown",
   "metadata": {},
   "source": [
    "### Does starting matter?\n",
    "Absolutely YES!!! In most games, starting first will give you an edge to control the game."
   ]
  },
  {
   "cell_type": "code",
   "execution_count": 46,
   "metadata": {},
   "outputs": [
    {
     "name": "stdout",
     "output_type": "stream",
     "text": [
      "Total number of possible games: 362880\n",
      "Number of possibilities player who start first win: 212256(58.492%)\n",
      "Number of possibilities player who start second win: 104544(28.81%)\n",
      "Number of possibilities ended up in tie: 46080(12.698%)\n",
      "Total time: 1568 milliseconds\n"
     ]
    }
   ],
   "source": [
    "# Define all possible games\n",
    "games = collect(permutations(1:9, 9))\n",
    "start_time = now()\n",
    "winner = [points_to(game,win_cond) for game in games]\n",
    "end_time = now()\n",
    "\n",
    "println(\"Total number of possible games: \",length(games))\n",
    "println(\"Number of possibilities player who start first win: \",sum(winner.==1),\"($( round(sum(winner.==1)/length(games)*100,digits=3) )%)\")\n",
    "println(\"Number of possibilities player who start second win: \",sum(winner.== -1),\"($( round(sum(winner.==-1)/length(games)*100,digits=3) )%)\")\n",
    "println(\"Number of possibilities ended up in tie: \",sum(winner.==0),\"($( round(sum(winner.==0)/length(games)*100,digits=3) )%)\")\n",
    "println(\"Total time: \",(end_time-start_time))"
   ]
  },
  {
   "cell_type": "markdown",
   "metadata": {},
   "source": [
    "# Is it possible to be unbeatable? \n",
    "- Any player that play optimally will never lose.\n",
    "- If both player play optimally: Then will always end with ties."
   ]
  },
  {
   "cell_type": "code",
   "execution_count": 47,
   "metadata": {},
   "outputs": [
    {
     "data": {
      "text/plain": [
       "3×3 Matrix{Int64}:\n",
       " 0  0  0\n",
       " 0  0  0\n",
       " 0  0  0"
      ]
     },
     "metadata": {},
     "output_type": "display_data"
    }
   ],
   "source": [
    "q = Dict()\n",
    "board = (0,0,0,0,0,0,0,0,0)\n",
    "for play in 1:9\n",
    "    cur_v = play_game(q,choose(board,1,play),-1,win_cond,f1=maximum,f2=minimum)\n",
    "end\n",
    "showInBoard([q[choose(board,1,i)] for i in 1:9])"
   ]
  },
  {
   "cell_type": "code",
   "execution_count": 48,
   "metadata": {},
   "outputs": [
    {
     "data": {
      "text/plain": [
       "3×3 Matrix{Any}:\n",
       " 2            2            2\n",
       "  \"occupied\"   \"occupied\"  0\n",
       " 2            2            2"
      ]
     },
     "metadata": {},
     "output_type": "display_data"
    }
   ],
   "source": [
    "showInBoard([ (i in [5,2] ? \"occupied\" : q[sequence_play([5,2,i])]) for i in 1:9])"
   ]
  },
  {
   "cell_type": "code",
   "execution_count": 39,
   "metadata": {},
   "outputs": [
    {
     "data": {
      "text/plain": [
       "3×3 Matrix{Any}:\n",
       "  \"occupied\"  2  2\n",
       "  \"occupied\"  2  0\n",
       " 0            0  0"
      ]
     },
     "metadata": {},
     "output_type": "display_data"
    }
   ],
   "source": [
    "showInBoard([ (i in [1,2] ? \"occupied\" : q[sequence_play([1,2,i])]) for i in 1:9])"
   ]
  },
  {
   "cell_type": "code",
   "execution_count": 42,
   "metadata": {},
   "outputs": [
    {
     "data": {
      "text/plain": [
       "3×3 Matrix{Any}:\n",
       "  \"X\"  2  2\n",
       " 2     0  2\n",
       " 2     2  2"
      ]
     },
     "metadata": {},
     "output_type": "display_data"
    }
   ],
   "source": [
    "# If player 1 start from corner what should player 2 do? (Center)\n",
    "showInBoard([ (i==1 ? \"X\" : q[sequence_play([1,i])]) for i in 1:9])"
   ]
  },
  {
   "cell_type": "code",
   "execution_count": 43,
   "metadata": {},
   "outputs": [
    {
     "data": {
      "text/plain": [
       "3×3 Matrix{Any}:\n",
       " 0  2     0\n",
       " 2   \"X\"  2\n",
       " 0  2     0"
      ]
     },
     "metadata": {},
     "output_type": "display_data"
    }
   ],
   "source": [
    "# If player 1 start from center what should player 2 do? (Corner)\n",
    "showInBoard([ (i==5 ? \"X\" : q[sequence_play([5,i])]) for i in 1:9])"
   ]
  },
  {
   "cell_type": "code",
   "execution_count": 34,
   "metadata": {},
   "outputs": [
    {
     "data": {
      "text/plain": [
       "3×3 Matrix{Int64}:\n",
       " 0  2  2\n",
       " 0  0  0\n",
       " 0  2  2"
      ]
     },
     "metadata": {},
     "output_type": "display_data"
    }
   ],
   "source": [
    "# If player 1 didn't start from corner or center, \n",
    "# player 2 should play any place that is vertical or horizontal to player1 placement.\n",
    "showInBoard([ (i==2 ? 0 : q[sequence_play([2,i])]) for i in 1:9])"
   ]
  },
  {
   "cell_type": "code",
   "execution_count": 50,
   "metadata": {},
   "outputs": [
    {
     "data": {
      "text/plain": [
       "3×3 Matrix{Int64}:\n",
       "  2  -1   0\n",
       "  0   0  -1\n",
       " -1  -1   0"
      ]
     },
     "metadata": {},
     "output_type": "display_data"
    }
   ],
   "source": [
    "showInBoard([ (i in [2,7] ? 0 : q[sequence_play([2,7,i])]) for i in 1:9])"
   ]
  },
  {
   "cell_type": "code",
   "execution_count": 35,
   "metadata": {},
   "outputs": [
    {
     "data": {
      "text/plain": [
       "3×3 Matrix{Int64}:\n",
       "  2  0   0\n",
       "  0  2  -1\n",
       " -1  0   0"
      ]
     },
     "metadata": {},
     "output_type": "display_data"
    }
   ],
   "source": [
    "showInBoard([ (i in [2,4] ? 0 : q[sequence_play([2,4,i])]) for i in 1:9])"
   ]
  },
  {
   "cell_type": "code",
   "execution_count": 36,
   "metadata": {},
   "outputs": [
    {
     "data": {
      "text/plain": [
       "3×3 Matrix{Int64}:\n",
       " 2   0  0\n",
       " 0   0  0\n",
       " 2  -1  0"
      ]
     },
     "metadata": {},
     "output_type": "display_data"
    }
   ],
   "source": [
    "showInBoard([ (i in [2,4,5,8] ? 0 : q[sequence_play([2,4,5,8,i])]) for i in 1:9])"
   ]
  },
  {
   "cell_type": "code",
   "execution_count": 37,
   "metadata": {},
   "outputs": [
    {
     "data": {
      "text/plain": [
       "3×3 Matrix{Int64}:\n",
       "  2  -1   0\n",
       "  0   0  -1\n",
       " -1  -1   0"
      ]
     },
     "metadata": {},
     "output_type": "display_data"
    }
   ],
   "source": [
    "showInBoard([ (i in [2,7] ? 0 : q[sequence_play([2,7,i])]) for i in 1:9])"
   ]
  },
  {
   "cell_type": "code",
   "execution_count": 54,
   "metadata": {},
   "outputs": [
    {
     "data": {
      "text/plain": [
       "3×3 Matrix{Int64}:\n",
       " 0  2  0\n",
       " 2  0  2\n",
       " 0  2  0"
      ]
     },
     "metadata": {},
     "output_type": "display_data"
    }
   ],
   "source": [
    "plays = [5,1]\n",
    "showInBoard([ (i in [5,1,9] ? 0 : q[sequence_play([5,1,9,i])]) for i in 1:9])"
   ]
  },
  {
   "cell_type": "markdown",
   "metadata": {},
   "source": [
    "# Offensive score\n",
    "If we played optimally, how many possible ways opponent can make mistake and lose"
   ]
  },
  {
   "cell_type": "code",
   "execution_count": 11,
   "metadata": {},
   "outputs": [
    {
     "data": {
      "text/plain": [
       "3×3 Matrix{Int64}:\n",
       " 1022  1019  1022\n",
       " 1019  1020  1019\n",
       " 1022  1019  1022"
      ]
     },
     "metadata": {},
     "output_type": "display_data"
    }
   ],
   "source": [
    "q = Dict()\n",
    "board = (0,0,0,0,0,0,0,0,0)\n",
    "for play in 1:9\n",
    "    cur_v = play_game(q,choose(board,1,play),-1,win_cond,f1=maximum,f2=sum,p1w=1,p2w=-10000)\n",
    "end\n",
    "showInBoard([q[choose(board,1,i)] for i in 1:9])"
   ]
  },
  {
   "cell_type": "markdown",
   "metadata": {},
   "source": [
    "# Defensive score : \n",
    "If opponent play optimally, and we can only play the first move. How many possible ways we could lose."
   ]
  },
  {
   "cell_type": "code",
   "execution_count": 13,
   "metadata": {},
   "outputs": [
    {
     "data": {
      "text/plain": [
       "3×3 Matrix{Int64}:\n",
       " -182  -183  -182\n",
       " -183  -138  -183\n",
       " -182  -183  -182"
      ]
     },
     "metadata": {},
     "output_type": "display_data"
    }
   ],
   "source": [
    "q = Dict()\n",
    "board = (0,0,0,0,0,0,0,0,0)\n",
    "for play in 1:9\n",
    "    play_game(q,choose(board,1,play),-1,win_cond,f1=sum,f2=minimum,p1w=10000,p2w=-1)\n",
    "end\n",
    "showInBoard([q[choose(board,1,i)] for i in 1:9])"
   ]
  },
  {
   "cell_type": "markdown",
   "metadata": {},
   "source": []
  }
 ],
 "metadata": {
  "kernelspec": {
   "display_name": "Julia 1.11.2",
   "language": "julia",
   "name": "julia-1.11"
  },
  "language_info": {
   "file_extension": ".jl",
   "mimetype": "application/julia",
   "name": "julia",
   "version": "1.11.2"
  }
 },
 "nbformat": 4,
 "nbformat_minor": 2
}
